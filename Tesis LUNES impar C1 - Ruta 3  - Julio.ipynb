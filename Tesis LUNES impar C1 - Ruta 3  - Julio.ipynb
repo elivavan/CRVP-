{
 "cells": [
  {
   "cell_type": "markdown",
   "metadata": {},
   "source": [
    "# Lunes C1 - Ruta 3 - Julio"
   ]
  },
  {
   "cell_type": "code",
   "execution_count": 1,
   "metadata": {},
   "outputs": [],
   "source": [
    "#Creación de datos \n",
    "n=14 # Clientes\n",
    "clientes=[x for x in range(1,n+1)]\n",
    "\n",
    "nodos=[0]+clientes\n",
    "Q=2000  #capacidad \n",
    "\n",
    "import numpy as np\n",
    "rnd=np.random\n",
    "rnd.seed(0)\n",
    "\n",
    "q={i:rnd.randint(1,10) for i in clientes}"
   ]
  },
  {
   "cell_type": "code",
   "execution_count": null,
   "metadata": {},
   "outputs": [],
   "source": []
  },
  {
   "cell_type": "markdown",
   "metadata": {},
   "source": [
    "### INSERTAR LOCACIONES DE PUNTOS DE VENTA "
   ]
  },
  {
   "cell_type": "code",
   "execution_count": 2,
   "metadata": {},
   "outputs": [],
   "source": [
    "#LATITUD\n",
    "\n",
    "loc_y=([29.09291,\n",
    "        29.12706,\n",
    "        29.11965,\n",
    "29.12369,\n",
    "29.12432,\n",
    "29.12442,\n",
    "29.12589,\n",
    "29.12777,\n",
    "29.130644,\n",
    "29.131696,\n",
    "29.13342,\n",
    "29.13536,\n",
    "29.13694,\n",
    "29.13949,\n",
    "29.13981\n",
    "])\n",
    "\n",
    "#LONGITUD\n",
    "loc_x=([-110.99926,\n",
    "-110.98906,\n",
    "-110.98379,\n",
    "-110.99222,\n",
    "-110.98204,\n",
    "-111.00054,\n",
    "-110.99573,\n",
    "-111.00334,\n",
    "-111.005415,\n",
    "-111.023245,\n",
    "-111.01490,\n",
    "-110.99458,\n",
    "-111.00556,\n",
    "-110.99615,\n",
    "-111.00762])\n"
   ]
  },
  {
   "cell_type": "code",
   "execution_count": null,
   "metadata": {},
   "outputs": [],
   "source": []
  },
  {
   "cell_type": "code",
   "execution_count": 3,
   "metadata": {},
   "outputs": [],
   "source": [
    "import matplotlib.pyplot as plt\n",
    "\n"
   ]
  },
  {
   "cell_type": "code",
   "execution_count": 4,
   "metadata": {
    "scrolled": true
   },
   "outputs": [],
   "source": [
    "arcos= {(i,j) for i in nodos for j in nodos if i!=j}\n"
   ]
  },
  {
   "cell_type": "code",
   "execution_count": null,
   "metadata": {},
   "outputs": [],
   "source": []
  },
  {
   "cell_type": "code",
   "execution_count": null,
   "metadata": {},
   "outputs": [],
   "source": []
  },
  {
   "cell_type": "code",
   "execution_count": 5,
   "metadata": {},
   "outputs": [],
   "source": [
    "distancia={(i,j):np.hypot(loc_x[i]-loc_x[j],loc_y[i]-loc_y[j]) \n",
    "           for i in nodos for j in nodos if i!=j}\n"
   ]
  },
  {
   "cell_type": "code",
   "execution_count": null,
   "metadata": {},
   "outputs": [],
   "source": []
  },
  {
   "cell_type": "code",
   "execution_count": null,
   "metadata": {},
   "outputs": [],
   "source": []
  },
  {
   "cell_type": "markdown",
   "metadata": {},
   "source": [
    "# Instalando librería para creación de modelo doccplex"
   ]
  },
  {
   "cell_type": "code",
   "execution_count": 6,
   "metadata": {},
   "outputs": [],
   "source": [
    "import sys\n",
    "try:\n",
    "    import cplex\n",
    "except:\n",
    "    if hasattr(sys, 'real_prefix'):\n",
    "        #we are in a virtual env.\n",
    "        !pip install cplex\n",
    "    else:\n",
    "        !pip install --user cplex"
   ]
  },
  {
   "cell_type": "code",
   "execution_count": 7,
   "metadata": {},
   "outputs": [],
   "source": [
    "import sys\n",
    "try:\n",
    "    import docplex.mp\n",
    "except:\n",
    "    if hasattr(sys, 'real_prefix'):\n",
    "        #we are in a virtual env.\n",
    "        !pip install docplex\n",
    "    else:\n",
    "        !pip install --user docplex"
   ]
  },
  {
   "cell_type": "markdown",
   "metadata": {},
   "source": [
    "# Instalando Gurobi "
   ]
  },
  {
   "cell_type": "code",
   "execution_count": 8,
   "metadata": {},
   "outputs": [
    {
     "name": "stdout",
     "output_type": "stream",
     "text": [
      "\n",
      "Note: you may need to restart the kernel to use updated packages.\n"
     ]
    },
    {
     "name": "stderr",
     "output_type": "stream",
     "text": [
      "Warning: 'http://conda.anaconda.org/gurobi' already in 'channels' list, moving to the top\n"
     ]
    }
   ],
   "source": [
    "conda config --add channels http://conda.anaconda.org/gurobi"
   ]
  },
  {
   "cell_type": "code",
   "execution_count": 9,
   "metadata": {},
   "outputs": [
    {
     "name": "stdout",
     "output_type": "stream",
     "text": [
      "Collecting package metadata (current_repodata.json): ...working... done\n",
      "Solving environment: ...working... done\n",
      "\n",
      "# All requested packages already installed.\n",
      "\n",
      "\n",
      "Note: you may need to restart the kernel to use updated packages.\n"
     ]
    }
   ],
   "source": [
    "conda install gurobi"
   ]
  },
  {
   "cell_type": "code",
   "execution_count": 10,
   "metadata": {},
   "outputs": [],
   "source": [
    "from gurobipy import Model, GRB, quicksum"
   ]
  },
  {
   "cell_type": "code",
   "execution_count": null,
   "metadata": {},
   "outputs": [],
   "source": []
  },
  {
   "cell_type": "markdown",
   "metadata": {},
   "source": [
    "# Creación del modelo de optimización CVRP "
   ]
  },
  {
   "cell_type": "code",
   "execution_count": 11,
   "metadata": {},
   "outputs": [
    {
     "name": "stdout",
     "output_type": "stream",
     "text": [
      "Restricted license - for non-production use only - expires 2023-10-25\n"
     ]
    }
   ],
   "source": [
    "mdl = Model('CVRP')"
   ]
  },
  {
   "cell_type": "markdown",
   "metadata": {},
   "source": [
    "# Variables de decision"
   ]
  },
  {
   "cell_type": "code",
   "execution_count": 12,
   "metadata": {},
   "outputs": [],
   "source": [
    "x = mdl.addVars(arcos, vtype=GRB.BINARY)\n",
    "u = mdl.addVars(nodos, vtype=GRB.CONTINUOUS)"
   ]
  },
  {
   "cell_type": "code",
   "execution_count": null,
   "metadata": {},
   "outputs": [],
   "source": []
  },
  {
   "cell_type": "markdown",
   "metadata": {},
   "source": [
    "# Funcion objetivo"
   ]
  },
  {
   "cell_type": "code",
   "execution_count": 13,
   "metadata": {},
   "outputs": [],
   "source": [
    "mdl.modelSense = GRB.MINIMIZE\n",
    "mdl.setObjective(quicksum(x[i, j]*distancia[i, j] for i, j in arcos))"
   ]
  },
  {
   "cell_type": "markdown",
   "metadata": {},
   "source": [
    "# Restricciones "
   ]
  },
  {
   "cell_type": "code",
   "execution_count": 14,
   "metadata": {},
   "outputs": [
    {
     "data": {
      "text/plain": [
       "{1: <gurobi.Constr *Awaiting Model Update*>,\n",
       " 2: <gurobi.Constr *Awaiting Model Update*>,\n",
       " 3: <gurobi.Constr *Awaiting Model Update*>,\n",
       " 4: <gurobi.Constr *Awaiting Model Update*>,\n",
       " 5: <gurobi.Constr *Awaiting Model Update*>,\n",
       " 6: <gurobi.Constr *Awaiting Model Update*>,\n",
       " 7: <gurobi.Constr *Awaiting Model Update*>,\n",
       " 8: <gurobi.Constr *Awaiting Model Update*>,\n",
       " 9: <gurobi.Constr *Awaiting Model Update*>,\n",
       " 10: <gurobi.Constr *Awaiting Model Update*>,\n",
       " 11: <gurobi.Constr *Awaiting Model Update*>,\n",
       " 12: <gurobi.Constr *Awaiting Model Update*>,\n",
       " 13: <gurobi.Constr *Awaiting Model Update*>,\n",
       " 14: <gurobi.Constr *Awaiting Model Update*>}"
      ]
     },
     "execution_count": 14,
     "metadata": {},
     "output_type": "execute_result"
    }
   ],
   "source": [
    "mdl.addConstrs(quicksum(x[i, j] for j in nodos if j != i) == 1 for i in clientes)\n",
    "mdl.addConstrs(quicksum(x[i, j] for i in nodos if i != j) == 1 for j in clientes)\n",
    "mdl.addConstrs((x[i, j] == 1) >> (u[i]+q[j] == u[j])\n",
    "               for i, j in arcos if i != 0 and j != 0)\n",
    "mdl.addConstrs(u[i] >= q[i] for i in clientes)\n",
    "mdl.addConstrs(u[i] <= Q for i in clientes)"
   ]
  },
  {
   "cell_type": "code",
   "execution_count": 15,
   "metadata": {},
   "outputs": [
    {
     "name": "stdout",
     "output_type": "stream",
     "text": [
      "Set parameter MIPGap to value 0.1\n",
      "Set parameter TimeLimit to value 30\n",
      "Gurobi Optimizer version 9.5.0 build v9.5.0rc5 (win64)\n",
      "Thread count: 4 physical cores, 8 logical processors, using up to 8 threads\n",
      "Optimize a model with 56 rows, 225 columns and 420 nonzeros\n",
      "Model fingerprint: 0x0ad7b5d8\n",
      "Model has 182 general constraints\n",
      "Variable types: 15 continuous, 210 integer (210 binary)\n",
      "Coefficient statistics:\n",
      "  Matrix range     [1e+00, 1e+00]\n",
      "  Objective range  [4e-03, 5e-02]\n",
      "  Bounds range     [1e+00, 1e+00]\n",
      "  RHS range        [1e+00, 2e+03]\n",
      "  GenCon rhs range [1e+00, 9e+00]\n",
      "  GenCon coe range [1e+00, 1e+00]\n",
      "Presolve added 154 rows and 181 columns\n",
      "Presolve time: 0.00s\n",
      "Presolved: 210 rows, 406 columns, 847 nonzeros\n",
      "Presolved model has 182 SOS constraint(s)\n",
      "Variable types: 196 continuous, 210 integer (210 binary)\n",
      "Found heuristic solution: objective 1.0849993\n",
      "\n",
      "Root relaxation: objective 6.930732e-02, 18 iterations, 0.00 seconds (0.00 work units)\n",
      "\n",
      "    Nodes    |    Current Node    |     Objective Bounds      |     Work\n",
      " Expl Unexpl |  Obj  Depth IntInf | Incumbent    BestBd   Gap | It/Node Time\n",
      "\n",
      "     0     0    0.06931    0   14    1.08500    0.06931  93.6%     -    0s\n",
      "H    0     0                       0.5771533    0.06931  88.0%     -    0s\n",
      "     0     0    0.08484    0   53    0.57715    0.08484  85.3%     -    0s\n",
      "H    0     0                       0.2744993    0.08484  69.1%     -    0s\n",
      "H    0     0                       0.2546551    0.08484  66.7%     -    0s\n",
      "     0     0    0.08484    0   58    0.25466    0.08484  66.7%     -    0s\n",
      "     0     0    0.08484    0   54    0.25466    0.08484  66.7%     -    0s\n",
      "H    0     0                       0.1818576    0.08484  53.3%     -    0s\n",
      "     0     0    0.08484    0   56    0.18186    0.08484  53.3%     -    0s\n",
      "     0     0    0.10263    0   56    0.18186    0.10263  43.6%     -    0s\n",
      "H    0     0                       0.1649006    0.10263  37.8%     -    0s\n",
      "     0     0    0.10263    0   12    0.16490    0.10263  37.8%     -    0s\n",
      "     0     0    0.10263    0   56    0.16490    0.10263  37.8%     -    0s\n",
      "     0     0    0.10263    0   13    0.16490    0.10263  37.8%     -    0s\n",
      "     0     2    0.10263    0   13    0.16490    0.10263  37.8%     -    0s\n",
      "*  120   120              18       0.1643587    0.10268  37.5%   3.6    0s\n",
      "*  121   120              17       0.1623074    0.10268  36.7%   3.7    0s\n",
      "*  160   170              32       0.1558105    0.10268  34.1%   3.5    0s\n",
      "H 1023   692                       0.1557520    0.10282  34.0%   4.3    0s\n",
      " 34096 16033    0.11734   27    3    0.15575    0.11112  28.7%   3.4    5s\n",
      "*56576 26751              34       0.1549335    0.11247  27.4%   3.6    7s\n",
      "*57590 26932              30       0.1548749    0.11251  27.4%   3.6    8s\n",
      " 66877 30620 infeasible   38         0.15487    0.11318  26.9%   3.8   10s\n",
      " 88627 38714 infeasible   43         0.15487    0.11419  26.3%   4.0   15s\n",
      " 108267 45512    0.11539   34   14    0.15487    0.11475  25.9%   4.2   20s\n",
      " 134906 54526 infeasible   50         0.15487    0.11544  25.5%   4.3   25s\n",
      " 160119 62769    0.13720   30    3    0.15487    0.11599  25.1%   4.4   30s\n",
      "\n",
      "Cutting planes:\n",
      "  Gomory: 5\n",
      "  Implied bound: 89\n",
      "  Clique: 2\n",
      "  Flow cover: 2\n",
      "  Inf proof: 3\n",
      "  Relax-and-lift: 8\n",
      "\n",
      "Explored 160368 nodes (715848 simplex iterations) in 30.02 seconds (6.98 work units)\n",
      "Thread count was 8 (of 8 available processors)\n",
      "\n",
      "Solution count 10: 0.154875 0.154933 0.155752 ... 0.274499\n",
      "\n",
      "Time limit reached\n",
      "Best objective 1.548749097562e-01, best bound 1.159921385146e-01, gap 25.1059%\n"
     ]
    }
   ],
   "source": [
    "mdl.Params.MIPGap = 0.1\n",
    "mdl.Params.TimeLimit = 30  # seconds\n",
    "mdl.optimize()"
   ]
  },
  {
   "cell_type": "code",
   "execution_count": 16,
   "metadata": {},
   "outputs": [
    {
     "data": {
      "text/plain": [
       "[(10, 8),\n",
       " (7, 5),\n",
       " (3, 6),\n",
       " (4, 1),\n",
       " (6, 11),\n",
       " (0, 2),\n",
       " (1, 3),\n",
       " (14, 9),\n",
       " (13, 12),\n",
       " (5, 0),\n",
       " (11, 13),\n",
       " (12, 14),\n",
       " (8, 7),\n",
       " (2, 4),\n",
       " (9, 10)]"
      ]
     },
     "execution_count": 16,
     "metadata": {},
     "output_type": "execute_result"
    }
   ],
   "source": [
    "active_arcs = [a for a in arcos if x[a].x > 0.99]\n",
    "active_arcs"
   ]
  },
  {
   "cell_type": "code",
   "execution_count": null,
   "metadata": {},
   "outputs": [],
   "source": []
  },
  {
   "cell_type": "code",
   "execution_count": null,
   "metadata": {},
   "outputs": [],
   "source": []
  },
  {
   "cell_type": "code",
   "execution_count": 17,
   "metadata": {},
   "outputs": [
    {
     "name": "stdout",
     "output_type": "stream",
     "text": [
      "Gurobi Optimizer version 9.5.0 build v9.5.0rc5 (win64)\n",
      "Thread count: 4 physical cores, 8 logical processors, using up to 8 threads\n",
      "Optimize a model with 56 rows, 225 columns and 420 nonzeros\n",
      "Model fingerprint: 0x0ad7b5d8\n",
      "Model has 182 general constraints\n",
      "Variable types: 15 continuous, 210 integer (210 binary)\n",
      "Coefficient statistics:\n",
      "  Matrix range     [1e+00, 1e+00]\n",
      "  Objective range  [4e-03, 5e-02]\n",
      "  Bounds range     [1e+00, 1e+00]\n",
      "  RHS range        [1e+00, 2e+03]\n",
      "  GenCon rhs range [1e+00, 9e+00]\n",
      "  GenCon coe range [1e+00, 1e+00]\n",
      "Presolved: 210 rows, 406 columns, 847 nonzeros\n",
      "Presolved model has 182 SOS constraint(s)\n",
      "\n",
      "Continuing optimization...\n",
      "\n",
      " 160368 62929 infeasible   45         0.15487    0.11599  25.1%   4.4   30s\n",
      " 182413 70170    0.13912   33    9    0.15487    0.11641  24.8%   4.5   35s\n",
      " 201353 76795    0.14074   34    4    0.15487    0.11670  24.6%   4.6   40s\n",
      " 215237 81194     cutoff   40         0.15487    0.11692  24.5%   4.6   45s\n",
      " 232347 86226    0.14654   42    1    0.15487    0.11717  24.3%   4.7   50s\n",
      " 247415 91351    0.12205   30   18    0.15487    0.11736  24.2%   4.7   55s\n",
      " 263543 96385    0.14716   39    2    0.15487    0.11755  24.1%   4.7   60s\n",
      "\n",
      "Cutting planes:\n",
      "  Gomory: 5\n",
      "  Implied bound: 98\n",
      "  Clique: 2\n",
      "  Flow cover: 2\n",
      "  Inf proof: 4\n",
      "  Relax-and-lift: 8\n",
      "\n",
      "Explored 264089 nodes (1251922 simplex iterations) in 30.02 seconds (5.14 work units)\n",
      "Thread count was 8 (of 8 available processors)\n",
      "\n",
      "Solution count 10: 0.154875 0.154933 0.155752 ... 0.274499\n",
      "\n",
      "Time limit reached\n",
      "Best objective 1.548749097562e-01, best bound 1.175495797231e-01, gap 24.1003%\n"
     ]
    }
   ],
   "source": [
    "mdl.Params.MIPGap = 0.1\n",
    "mdl.Params.TimeLimit = 30  # seconds\n",
    "mdl.optimize()"
   ]
  },
  {
   "cell_type": "code",
   "execution_count": null,
   "metadata": {},
   "outputs": [],
   "source": []
  },
  {
   "cell_type": "code",
   "execution_count": 18,
   "metadata": {},
   "outputs": [
    {
     "data": {
      "text/plain": [
       "Text(0.5, 1.0, 'Gráfico de Nodos | VRP')"
      ]
     },
     "execution_count": 18,
     "metadata": {},
     "output_type": "execute_result"
    },
    {
     "data": {
      "image/png": "[encoded data removed]",
      "text/plain": [
       "<Figure size 720x432 with 1 Axes>"
      ]
     },
     "metadata": {
      "needs_background": "light"
     },
     "output_type": "display_data"
    }
   ],
   "source": [
    "plt.figure(figsize=(10,6))\n",
    "\n",
    "for i, j in active_arcs:\n",
    "    plt.plot([loc_x[i], loc_x[j]], [loc_y[i], loc_y[j]], c='g', zorder=0)\n",
    "    plt.plot(loc_x[0], loc_y[0], c='r', marker='s')\n",
    "    plt.scatter(loc_x[1:], loc_y[1:], c='b')\n",
    "    plt.annotate('DC',(loc_x[0],loc_y[0]))\n",
    "    \n",
    "for i in clientes:\n",
    "    plt.annotate('$q_{%d}=%d$'%(i,q[i]),(loc_x[i],loc_y[i]))\n",
    "\n",
    "plt.xlabel(\"Eje X\")\n",
    "plt.ylabel(\"Eje Y\")\n",
    "plt.title(\"Gráfico de Nodos | VRP\")"
   ]
  },
  {
   "cell_type": "code",
   "execution_count": null,
   "metadata": {},
   "outputs": [],
   "source": []
  },
  {
   "cell_type": "code",
   "execution_count": null,
   "metadata": {},
   "outputs": [],
   "source": []
  },
  {
   "cell_type": "code",
   "execution_count": null,
   "metadata": {},
   "outputs": [],
   "source": []
  },
  {
   "cell_type": "code",
   "execution_count": null,
   "metadata": {},
   "outputs": [],
   "source": []
  },
  {
   "cell_type": "code",
   "execution_count": null,
   "metadata": {},
   "outputs": [],
   "source": []
  },
  {
   "cell_type": "code",
   "execution_count": null,
   "metadata": {},
   "outputs": [],
   "source": []
  }
 ],
 "metadata": {
  "kernelspec": {
   "display_name": "Python 3",
   "language": "python",
   "name": "python3"
  },
  "language_info": {
   "codemirror_mode": {
    "name": "ipython",
    "version": 3
   },
   "file_extension": ".py",
   "mimetype": "text/x-python",
   "name": "python",
   "nbconvert_exporter": "python",
   "pygments_lexer": "ipython3",
   "version": "3.7.4"
  }
 },
 "nbformat": 4,
 "nbformat_minor": 4
}
